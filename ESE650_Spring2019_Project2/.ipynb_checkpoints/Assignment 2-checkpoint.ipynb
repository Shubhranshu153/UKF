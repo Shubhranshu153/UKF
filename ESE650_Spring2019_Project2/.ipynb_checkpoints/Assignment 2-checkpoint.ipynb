{
 "cells": [
  {
   "cell_type": "code",
   "execution_count": 4,
   "metadata": {},
   "outputs": [
    {
     "ename": "SyntaxError",
     "evalue": "invalid syntax (<ipython-input-4-0658d250d04a>, line 5)",
     "output_type": "error",
     "traceback": [
      "\u001b[0;36m  File \u001b[0;32m\"<ipython-input-4-0658d250d04a>\"\u001b[0;36m, line \u001b[0;32m5\u001b[0m\n\u001b[0;31m    filename = os.path.join(os.path.dirname(./), \"imu/imuRaw\" + str(number) + \".mat\")\u001b[0m\n\u001b[0m                                            ^\u001b[0m\n\u001b[0;31mSyntaxError\u001b[0m\u001b[0;31m:\u001b[0m invalid syntax\n"
     ]
    }
   ],
   "source": [
    "import scipy\n",
    "from scipy import io\n",
    "import os\n",
    "number=1\n",
    "filename = os.path.join(os.path.dirname(__file__), \"imu/imuRaw\" + str(number) + \".mat\")\n",
    "imuRaw = io.loadmat(filename)"
   ]
  },
  {
   "cell_type": "code",
   "execution_count": null,
   "metadata": {},
   "outputs": [],
   "source": []
  }
 ],
 "metadata": {
  "kernelspec": {
   "display_name": "Python 3",
   "language": "python",
   "name": "python3"
  },
  "language_info": {
   "codemirror_mode": {
    "name": "ipython",
    "version": 3
   },
   "file_extension": ".py",
   "mimetype": "text/x-python",
   "name": "python",
   "nbconvert_exporter": "python",
   "pygments_lexer": "ipython3",
   "version": "3.7.4"
  }
 },
 "nbformat": 4,
 "nbformat_minor": 4
}
